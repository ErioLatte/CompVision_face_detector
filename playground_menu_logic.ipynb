{
 "cells": [
  {
   "cell_type": "markdown",
   "metadata": {},
   "source": [
    "# MY LOGIC:\n",
    "BEFORE MENU:\n",
    "- IMPORT LIBS\n",
    "- LOAD DATASET\n",
    "- CREATE MODEL ARCHITECHTURE\n",
    "- LOAD NECESSARY STUFF -> cascade \n"
   ]
  },
  {
   "cell_type": "code",
   "execution_count": 1,
   "metadata": {},
   "outputs": [
    {
     "name": "stdout",
     "output_type": "stream",
     "text": [
      "Footbal Player Face Recognition\n",
      "1. Train and Test Model\n",
      "2. Predict\n",
      "3. Exit\n"
     ]
    },
    {
     "ename": "",
     "evalue": "",
     "output_type": "error",
     "traceback": [
      "\u001b[1;31mThe Kernel crashed while executing code in the the current cell or a previous cell. Please review the code in the cell(s) to identify a possible cause of the failure. Click <a href='https://aka.ms/vscodeJupyterKernelCrash'>here</a> for more info. View Jupyter <a href='command:jupyter.viewOutput'>log</a> for further details."
     ]
    }
   ],
   "source": [
    "## IMPORT LIBS\n",
    "import os\n",
    "import cv2\n",
    "import tensorflow as tf\n",
    "from tensorflow import keras\n",
    "##\n",
    "## DECLARE GLOBAL VARIABLE\n",
    "PRETRAINED_PATH = \"./models/\"\n",
    "MODEL_NAME = \"trained_model.keras\"\n",
    "CASCADE_NAME = \"haarcascade_frontalface_default.xml\"\n",
    "EPOCH = 10\n",
    "BATCH_SIZE = 32\n",
    "##\n",
    "## LOAD DATASET\n",
    "\n",
    "##\n",
    "## CREATE MODEL ARCHITECHTURE\n",
    "def create_model():\n",
    "    print(\"HELLO\")\n",
    "    model = []\n",
    "    return model\n",
    "\n",
    "def main_menu():\n",
    "    print(\"Footbal Player Face Recognition\")\n",
    "    print(\"1. Train and Test Model\\n2. Predict\\n3. Exit\")\n",
    "    player_choice = input(\">> \")\n",
    "    return player_choice\n",
    "\n",
    "##\n",
    "\n",
    "# parent_path = \"\"\n",
    "# user_choice = 0\n",
    "# while(user_choice != 3):\n",
    "#     user_choice = main_menu()\n",
    "#     if user_choice == 1:\n",
    "#         print(\"TRAIN TEST\")\n",
    "#     elif user_choice == 2:\n",
    "#         print(\"PREDICT\")\n",
    "#     elif user_choice == 3:\n",
    "#         print(\"EXIT\")\n",
    "#     else:\n",
    "#         print(\"please enter number between 1-3!\")\n",
    "#         input(\"press enter to continue\")"
   ]
  },
  {
   "cell_type": "markdown",
   "metadata": {},
   "source": [
    "---\n",
    "MENU:\n",
    "1. TRAIN & TEST \n",
    "- DETECT FACE -> create face only datasets\n",
    "- PREPROCESS -> categorical, create model structure, image augmentation, etc\n",
    "- EVALUEATE -> predict the test dataset\n",
    "- SAVE -> save the model into specific folder"
   ]
  },
  {
   "cell_type": "code",
   "execution_count": 1,
   "metadata": {},
   "outputs": [],
   "source": [
    "def detect_face():\n",
    "    cascade_path = os.path.join(PRETRAINED_PATH, CASCADE_NAME)\n",
    "    face_datasets = []\n",
    "    return face_datasets\n",
    "\n",
    "def train_test_model(x_train, x_test, y_train, y_test):\n",
    "    print(\"training and Testing\")\n",
    "\n",
    "    # create model\n",
    "    model = create_model()\n",
    "\n",
    "    # change dataset into face only\n",
    "    x_train = detect_face(x_train)\n",
    "    x_test = detect_face(x_test)\n",
    "\n",
    "    ## insert other preprcessing here\n",
    "\n",
    "    ##\n",
    "    # train model\n",
    "    model.fit(\n",
    "        x_train,\n",
    "        y_train, \n",
    "        epoch=EPOCH\n",
    "    )\n",
    "\n",
    "    # test model\n",
    "    loss, accuracy = model.evaluate(x_test, y_test)\n",
    "\n",
    "    # show accuracy\n",
    "    print(\"training and Testing Finished\")\n",
    "    print(f\"Average Accuracy : {accuracy}\")\n",
    "\n",
    "    # save model\n",
    "    model.save(os.path.join(PRETRAINED_PATH, MODEL_NAME))\n",
    "    return model"
   ]
  },
  {
   "cell_type": "markdown",
   "metadata": {},
   "source": [
    "---\n",
    "2. PREDICT -> specific image\n",
    "- LOAD MODEL -> print error & back if no model found\n",
    "- ASK INPUT PATH -> return error if not found"
   ]
  },
  {
   "cell_type": "code",
   "execution_count": null,
   "metadata": {},
   "outputs": [],
   "source": [
    "def predict_image(model, image_path):\n",
    "    # detect face\n",
    "    return image_path\n",
    "\n",
    "def pre_predict():\n",
    "    # check if pretrained model exist\n",
    "    pretrained_model_path = os.path.join(PRETRAINED_PATH, MODEL_NAME)\n",
    "    if os.path.exists(pretrained_model_path):\n",
    "        pretrained_model = keras.models.load_model(\"my_model.keras\")\n",
    "    else:\n",
    "        print(\"no pretrained model found\")\n",
    "        return\n",
    "    \n",
    "    predict_image_path = input(\"Input absolute path for image to predict >> \")\n",
    "\n",
    "    return \n",
    "    "
   ]
  }
 ],
 "metadata": {
  "kernelspec": {
   "display_name": "comp_vision",
   "language": "python",
   "name": "python3"
  },
  "language_info": {
   "codemirror_mode": {
    "name": "ipython",
    "version": 3
   },
   "file_extension": ".py",
   "mimetype": "text/x-python",
   "name": "python",
   "nbconvert_exporter": "python",
   "pygments_lexer": "ipython3",
   "version": "3.7.16"
  }
 },
 "nbformat": 4,
 "nbformat_minor": 2
}

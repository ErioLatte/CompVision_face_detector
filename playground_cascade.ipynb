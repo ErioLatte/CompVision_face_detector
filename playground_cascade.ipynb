{
 "cells": [
  {
   "cell_type": "code",
   "execution_count": 1,
   "metadata": {},
   "outputs": [],
   "source": [
    "import cv2\n",
    "import math\n",
    "import os\n",
    "import sys\n",
    "import numpy as np"
   ]
  },
  {
   "cell_type": "code",
   "execution_count": 2,
   "metadata": {},
   "outputs": [],
   "source": [
    "## will load the dataset\n",
    "def get_dataset(parent_path):\n",
    "    image_datasets = []\n",
    "    label_datasets = []\n",
    "    image_count = []\n",
    "    # idx -> \n",
    "    for idx, label in enumerate(os.listdir(parent_path)):\n",
    "        image_path = os.path.join(parent_path, label)\n",
    "        count = 0\n",
    "        for images in os.listdir(image_path):\n",
    "            # read from path\n",
    "            path2 = os.path.join(image_path, images)\n",
    "            img = cv2.imread(path2, 0) # second parameter -> 0 = read as grayscale  \n",
    "            # grayscaling\n",
    "            gray_img = cv2.cvtColor(img, cv2.COLOR_BGR2GRAY)\n",
    "            # input image into list array\n",
    "            image_datasets.append(gray_img)\n",
    "            # image_datasets.append(path2)\n",
    "            # label_datasets.append(label)\n",
    "            label_datasets.append(idx)\n",
    "            count += 1\n",
    "        image_count.append(count)\n",
    "    # this will return the image path & its label in order from the datasets\n",
    "    return image_datasets, label_datasets, image_count"
   ]
  },
  {
   "cell_type": "code",
   "execution_count": 13,
   "metadata": {},
   "outputs": [
    {
     "name": "stdout",
     "output_type": "stream",
     "text": [
      "xml file found\n"
     ]
    }
   ],
   "source": [
    "cascade_path = \"./models/haarcascade_frontalface_default.xml\"\n",
    "face_cascade = None\n",
    "if os.path.exists(cascade_path):\n",
    "    face_cascade = cv2.CascadeClassifier(cascade_path)\n",
    "    print(\"xml file found\")\n",
    "else:\n",
    "    print(\"xml file for cascade not found, exiting program\")\n",
    "    sys.exit"
   ]
  },
  {
   "cell_type": "code",
   "execution_count": 19,
   "metadata": {},
   "outputs": [
    {
     "name": "stdout",
     "output_type": "stream",
     "text": [
      "hewwo: ./dataset\\cristiano_ronaldo\\1.jpg\n",
      "hewwo: ./dataset\\cristiano_ronaldo\\4.jpg\n",
      "hewwo: ./dataset\\cristiano_ronaldo\\9.jpg\n",
      "hewwo: ./dataset\\erling_haaland\\10.jpg\n",
      "hewwo: ./dataset\\erling_haaland\\15.jpg\n",
      "hello: ./dataset\\erling_haaland\\18.jpg\n",
      "hewwo: ./dataset\\erling_haaland\\2.jpg\n",
      "hewwo: ./dataset\\jorginho\\13.jpg\n",
      "hewwo: ./dataset\\karim_benzema\\17.jpg\n",
      "hewwo: ./dataset\\kylian_mbappe\\3.jpg\n",
      "hewwo: ./dataset\\kylian_mbappe\\4.jpg\n",
      "hewwo: ./dataset\\kylian_mbappe\\9.jpg\n",
      "hewwo: ./dataset\\lionel_messi\\1.jpg\n",
      "hewwo: ./dataset\\mohamed_salah\\11.jpg\n",
      "hewwo: ./dataset\\mohamed_salah\\13.jpg\n",
      "hewwo: ./dataset\\mohamed_salah\\4.jpg\n",
      "hewwo: ./dataset\\neymar\\14.jpg\n",
      "hewwo: ./dataset\\robert_lewandoski\\11.jpg\n",
      "hewwo: ./dataset\\robert_lewandoski\\4.jpg\n",
      "hewwo: ./dataset\\robert_lewandoski\\9.jpg\n",
      "hello: ./dataset\\romelu_lukaku\\18.jpg\n",
      "hewwo: ./dataset\\romelu_lukaku\\20.jpg\n"
     ]
    }
   ],
   "source": [
    "parent_path = \"./dataset\"\n",
    "class_names = os.listdir(parent_path)\n",
    "\n",
    "face_datasets = []\n",
    "label_datasets = []\n",
    "\n",
    "for index, labels in enumerate(os.listdir(parent_path)):\n",
    "    class_path = os.path.join(parent_path, labels)\n",
    "    for image in os.listdir(class_path):\n",
    "        full_image_path = os.path.join(class_path, image)\n",
    "        gray_image = cv2.imread(full_image_path, 0)\n",
    "        \n",
    "        detected_face = face_cascade.detectMultiScale(gray_image, scaleFactor=1.2, minNeighbors=1, minSize=(60, 60))\n",
    "        if(len(detected_face) < 1):\n",
    "            print(f\"hello: {full_image_path}\")\n",
    "            continue\n",
    "        elif(len(detected_face) > 1):\n",
    "            print(f\"hewwo: {full_image_path}\")\n",
    "\n",
    "        for face_box in detected_face:\n",
    "            x, y, w, h = face_box\n",
    "            face_image = gray_image[y:y+w, x:x+h]\n",
    "            face_datasets.append(face_image)\n",
    "            label_datasets.append(index)\n",
    "\n"
   ]
  },
  {
   "cell_type": "markdown",
   "metadata": {},
   "source": [
    "---\n",
    "### Do Testing HERE!!"
   ]
  },
  {
   "cell_type": "code",
   "execution_count": 15,
   "metadata": {},
   "outputs": [],
   "source": [
    "def show_image(image):\n",
    "    cv2.imshow(\"your image\", image)\n",
    "    cv2.waitKey(0)\n",
    "    cv2.destroyAllWindows()"
   ]
  },
  {
   "cell_type": "code",
   "execution_count": 16,
   "metadata": {},
   "outputs": [
    {
     "name": "stdout",
     "output_type": "stream",
     "text": [
      "200\n"
     ]
    }
   ],
   "source": [
    "def get_all_path(parent_path):\n",
    "    complete_path = []\n",
    "    for index, labels in enumerate(os.listdir(parent_path)):\n",
    "        class_path = os.path.join(parent_path, labels)\n",
    "        for image in os.listdir(class_path):\n",
    "            full_image_path = os.path.join(class_path, image)\n",
    "            complete_path.append(full_image_path)\n",
    "        \n",
    "    return complete_path\n",
    "\n",
    "all_path = get_all_path(\"./dataset\")\n",
    "print(len(all_path))"
   ]
  },
  {
   "cell_type": "code",
   "execution_count": 147,
   "metadata": {},
   "outputs": [
    {
     "name": "stdout",
     "output_type": "stream",
     "text": [
      "path: ./dataset\\cristiano_ronaldo\\20.jpg  -  hewwo: 12\n",
      "path: ./dataset\\cristiano_ronaldo\\3.jpg  -  hewwo: 13\n",
      "path: ./dataset\\cristiano_ronaldo\\4.jpg  -  hewwo: 14\n",
      "path: ./dataset\\erling_haaland\\1.jpg  -  hewwo: 20\n",
      "path: ./dataset\\erling_haaland\\10.jpg  -  hewwo: 21\n",
      "path: ./dataset\\erling_haaland\\15.jpg  -  hewwo: 26\n",
      "path: ./dataset\\erling_haaland\\17.jpg  -  hewwo: 28\n",
      "path: ./dataset\\erling_haaland\\18.jpg  -  hewwo: 29\n",
      "path: ./dataset\\erling_haaland\\2.jpg  -  hewwo: 31\n",
      "path: ./dataset\\erling_haaland\\5.jpg  -  hewwo: 35\n",
      "path: ./dataset\\erling_haaland\\6.jpg  -  hewwo: 36\n",
      "path: ./dataset\\erling_haaland\\8.jpg  -  hewwo: 38\n",
      "path: ./dataset\\erling_haaland\\9.jpg  -  hewwo: 39\n",
      "path: ./dataset\\jorginho\\7.jpg  -  hewwo: 57\n",
      "path: ./dataset\\karim_benzema\\10.jpg  -  hewwo: 61\n",
      "path: ./dataset\\karim_benzema\\13.jpg  -  hewwo: 64\n",
      "path: ./dataset\\karim_benzema\\17.jpg  -  hewwo: 68\n",
      "path: ./dataset\\karim_benzema\\19.jpg  -  hewwo: 70\n",
      "path: ./dataset\\kylian_mbappe\\17.jpg  -  hewwo: 88\n",
      "path: ./dataset\\kylian_mbappe\\18.jpg  -  hewwo: 89\n",
      "path: ./dataset\\kylian_mbappe\\4.jpg  -  hewwo: 94\n",
      "path: ./dataset\\kylian_mbappe\\6.jpg  -  hewwo: 96\n",
      "path: ./dataset\\lionel_messi\\1.jpg  -  hewwo: 100\n",
      "path: ./dataset\\lionel_messi\\11.jpg  -  hewwo: 102\n",
      "path: ./dataset\\lionel_messi\\13.jpg  -  hewwo: 104\n",
      "path: ./dataset\\lionel_messi\\17.jpg  -  hewwo: 108\n",
      "path: ./dataset\\lionel_messi\\19.jpg  -  hewwo: 110\n",
      "path: ./dataset\\mohamed_salah\\11.jpg  -  hewwo: 122\n",
      "path: ./dataset\\mohamed_salah\\13.jpg  -  hewwo: 124\n",
      "path: ./dataset\\mohamed_salah\\4.jpg  -  hewwo: 134\n",
      "path: ./dataset\\mohamed_salah\\5.jpg  -  hewwo: 135\n",
      "path: ./dataset\\mohamed_salah\\8.jpg  -  hewwo: 138\n",
      "path: ./dataset\\neymar\\15.jpg  -  hewwo: 146\n",
      "path: ./dataset\\neymar\\6.jpg  -  hewwo: 156\n",
      "path: ./dataset\\robert_lewandoski\\11.jpg  -  hewwo: 162\n",
      "path: ./dataset\\robert_lewandoski\\13.jpg  -  hewwo: 164\n",
      "path: ./dataset\\robert_lewandoski\\17.jpg  -  hewwo: 168\n",
      "path: ./dataset\\robert_lewandoski\\3.jpg  -  hewwo: 173\n",
      "path: ./dataset\\robert_lewandoski\\9.jpg  -  hewwo: 179\n",
      "path: ./dataset\\romelu_lukaku\\1.jpg  -  hewwo: 180\n",
      "path: ./dataset\\romelu_lukaku\\11.jpg  -  hewwo: 182\n",
      "path: ./dataset\\romelu_lukaku\\2.jpg  -  hewwo: 191\n",
      "path: ./dataset\\romelu_lukaku\\20.jpg  -  hewwo: 192\n",
      "path: ./dataset\\romelu_lukaku\\5.jpg  -  OWO: 195\n",
      "200\n",
      "total hewwo: 43\n",
      "total OWO: 1\n"
     ]
    }
   ],
   "source": [
    "parent_path = \"./dataset\"\n",
    "class_names = os.listdir(parent_path)\n",
    "\n",
    "face_datasets = []\n",
    "label_datasets = []\n",
    "count = 0\n",
    "owo = 0\n",
    "hewwo = 0\n",
    "\n",
    "for index, labels in enumerate(os.listdir(parent_path)):\n",
    "    class_path = os.path.join(parent_path, labels)\n",
    "    for image in os.listdir(class_path):\n",
    "        full_image_path = os.path.join(class_path, image)\n",
    "        gray_image = cv2.imread(full_image_path, 0)\n",
    "\n",
    "        detected_face = face_cascade.detectMultiScale(gray_image, scaleFactor=1.01, minNeighbors=5, minSize=(85, 85), flags=cv2.CASCADE_DO_CANNY_PRUNING)\n",
    "        \n",
    "        if(len(detected_face) < 1):\n",
    "            print(f\"path: {full_image_path}\", end=\"  -  \")\n",
    "            print(f\"OWO: {count}\")\n",
    "            owo+=1\n",
    "            \n",
    "        elif(len(detected_face) >1):\n",
    "            print(f\"path: {full_image_path}\", end=\"  -  \")\n",
    "            print(f\"hewwo: {count}\")\n",
    "            hewwo+=1\n",
    "        \n",
    "        count+=1\n",
    "        \n",
    "print(count)\n",
    "print(f\"total hewwo: {hewwo}\")\n",
    "print(f\"total OWO: {owo}\")"
   ]
  },
  {
   "cell_type": "code",
   "execution_count": 121,
   "metadata": {},
   "outputs": [
    {
     "name": "stdout",
     "output_type": "stream",
     "text": [
      "./dataset\\karim_benzema\\9.jpg\n"
     ]
    },
    {
     "data": {
      "text/plain": [
       "'\\nscaleFactor -> semakin kecil = detect face up, berat\\nminNeighthors\\n'"
      ]
     },
     "execution_count": 121,
     "metadata": {},
     "output_type": "execute_result"
    }
   ],
   "source": [
    "print(all_path[79])\n",
    "## ini gaada no detect, tapi 138 yang multiple detect\n",
    "# detected_face = face_cascade.detectMultiScale(gray_image, scaleFactor=1.01, minNeighbors=1, minSize=(30,30), maxSize=(300, 300))\n",
    "\n",
    "## ini 28 no detect, 9 multiple detect\n",
    "# detected_face = face_cascade.detectMultiScale(gray_image, scaleFactor=1.2, minNeighbors=3, minSize=(30, 30), maxSize=(300, 300))\n",
    "\n",
    "## ini 6 no detect, 16 multiple detect\n",
    "# detected_face = face_cascade.detectMultiScale(gray_image, scaleFactor=1.05, minNeighbors=3, minSize=(100, 100), maxSize=(300, 300), flags=cv2.CASCADE_SCALE_IMAGE)\n",
    "\n",
    "## ini 3 no detect, 24 multiple detect\n",
    "# detected_face = face_cascade.detectMultiScale(gray_image, scaleFactor=1.02, minNeighbors=5, minSize=(100, 100), flags=cv2.CASCADE_SCALE_IMAGE)\n",
    "\n",
    "## ini 10 no detect, 6 multiple detect\n",
    "detected_face = face_cascade.detectMultiScale(gray_image, scaleFactor=1.2, minNeighbors=, minSize=(30, 30), flags=cv2.CASCADE_DO_ROUGH_SEARCH)\n",
    "\n",
    "detected_face = face_cascade.detectMultiScale(gray_image, scaleFactor=1.2, minNeighbors=1, minSize=(60, 60))\n",
    "        \n",
    "\"\"\"\n",
    "scaleFactor -> semakin kecil = detect face up, berat\n",
    "minNeighthors\n",
    "\"\"\""
   ]
  },
  {
   "cell_type": "code",
   "execution_count": 151,
   "metadata": {},
   "outputs": [
    {
     "name": "stdout",
     "output_type": "stream",
     "text": [
      "1\n"
     ]
    }
   ],
   "source": [
    "gray_image = cv2.imread(all_path[195], 0)\n",
    "# show_image(gray_image)\n",
    "\n",
    "detected_face = face_cascade.detectMultiScale(gray_image, scaleFactor=1.01, minNeighbors=5, minSize=(70, 70), flags=cv2.CASCADE_DO_CANNY_PRUNING)\n",
    "if(len(detected_face) < 1):\n",
    "    print(\"gaada\")\n",
    "    # exit()\n",
    "\n",
    "face_image = 0\n",
    "for (x, y, w, h) in detected_face:\n",
    "    cv2.rectangle(gray_image, (x, y), (x+w, y+h), (255, 0, 0), 2)\n",
    "# for face_box in detected_face:\n",
    "#     x, y, w, h = face_box\n",
    "#     face_image = gray_image[y:y+w, x:x+h]\n",
    "    \n",
    "print(len(detected_face))\n",
    "show_image(gray_image)\n"
   ]
  },
  {
   "cell_type": "code",
   "execution_count": null,
   "metadata": {},
   "outputs": [],
   "source": [
    "detected_face = face_cascade.detectMultiScale(gray_image, scaleFactor=1.2, minNeighbors=1, minSize=(60, 60))"
   ]
  }
 ],
 "metadata": {
  "kernelspec": {
   "display_name": "comp_vision",
   "language": "python",
   "name": "python3"
  },
  "language_info": {
   "codemirror_mode": {
    "name": "ipython",
    "version": 3
   },
   "file_extension": ".py",
   "mimetype": "text/x-python",
   "name": "python",
   "nbconvert_exporter": "python",
   "pygments_lexer": "ipython3",
   "version": "3.7.16"
  }
 },
 "nbformat": 4,
 "nbformat_minor": 2
}
